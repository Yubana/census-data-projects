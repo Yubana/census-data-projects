{
 "cells": [
  {
   "cell_type": "code",
   "execution_count": null,
   "id": "997cfa08",
   "metadata": {},
   "outputs": [],
   "source": [
    "import pandas as pd\n",
    "import numpy as np\n",
    "import requests\n",
    "from os.path import isfile"
   ]
  },
  {
   "cell_type": "code",
   "execution_count": null,
   "id": "11064f9e",
   "metadata": {},
   "outputs": [],
   "source": [
    "states = '01,02,04,05,06,08,09,10,11,12,13,15,16,17,18,19,20,21,22,23,24,25,26,27,28,29,30,31,32,33,34,35,36,37,38,39,40,41,42,44,45,46,47,48,49,50,51,53,54,55,56'.split(',')\n"
   ]
  },
  {
   "cell_type": "code",
   "execution_count": null,
   "id": "28bcef12",
   "metadata": {},
   "outputs": [],
   "source": [
    "for state in states:\n",
    "    print(state)\n",
    "    file_path = f'2020_pums5_ppl_{state}.pkl.gz'\n",
    "    \n",
    "   \n",
    "    if isfile(file_path): \n",
    "        continue \n",
    "        \n",
    "    url = f'https://api.census.gov/data/2020/acs/acs5/pums?get=PWGTP,SERIALNO,SPORDER,FER,PAOC,POVPIP,SCH,SCHG,SCHL,PINCP,ADJINC,ESR,FHISP,RAC1P,RACBLK,RACAIAN,RACASN,RACNH,RACPI,RACSOR,RACWHT,SEX,MAR,ENG,&for=public%20use%20microdata%20area:*&in=state:{state}'\n",
    "    response = requests.get(url)\n",
    "    assert response.status_code == 200\n",
    "    \n",
    "    #the following steps to rename the data\n",
    "    # Convert to DataFrame\n",
    "    data = response.json()\n",
    "    df = pd.DataFrame(data[1:], columns=data[0])\n",
    "    \n",
    "    # Rename columns\n",
    "    cols = ['person_weight', 'household_id', 'person_id', 'gave_birth_last_12m','presence_and_age_of_own_children',\n",
    "            'poverty_rate','school_enrollment','grade_level_attending','educational_attainment','total_income',\n",
    "            'adjustment_factor','employment_status','hispanic_origin_flag','race_code','black_or_african',\n",
    "            'american_indian_or_alaskan_native','asian','native_hawaiian','pacific_islander','other_race','white',\n",
    "            'sex','marital_status','ability_to_speak_english','state_id','puma_id']\n",
    "    \n",
    "    df.columns = cols_hh + cols_ppl + cols_geo\n",
    "    \n",
    "    # Re-order columns\n",
    "    df = df[cols_geo + cols_hh + cols_ppl]\n",
    "\n",
    "    # Convert data type\n",
    "    cols_int = [col for col in df.columns if col != 'hh_num']\n",
    "    df[cols_int] = df[cols_int].astype('int64')\n",
    "    \n",
    "    # Output DataFrame\n",
    "    df.to_csv(file_path, \"\")\n",
    "print('Done')"
   ]
  },
  {
   "cell_type": "code",
   "execution_count": null,
   "id": "595fa8b3",
   "metadata": {},
   "outputs": [],
   "source": []
  }
 ],
 "metadata": {
  "kernelspec": {
   "display_name": "Python 3",
   "language": "python",
   "name": "python3"
  },
  "language_info": {
   "codemirror_mode": {
    "name": "ipython",
    "version": 3
   },
   "file_extension": ".py",
   "mimetype": "text/x-python",
   "name": "python",
   "nbconvert_exporter": "python",
   "pygments_lexer": "ipython3",
   "version": "3.8.8"
  }
 },
 "nbformat": 4,
 "nbformat_minor": 5
}
